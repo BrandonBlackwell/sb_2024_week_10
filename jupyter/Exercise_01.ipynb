{
 "cells": [
  {
   "cell_type": "markdown",
   "id": "5fd97391-ba22-48f3-8713-62d0e70f6f0b",
   "metadata": {},
   "source": [
    "# Exercise 01: Two Important Fourier Pairs\n",
    "\n",
    "In this exercise,\n",
    "you will get familiar\n",
    "with two extremely important Fourier transform pairs:\n",
    "\\begin{align*}\n",
    "    \\text{impulse train} &\\Longleftrightarrow \\text{impulse train}\\\\\n",
    "    \\text{rectangle} &\\Longleftrightarrow \\text{sinc function}\n",
    "\\end{align*}\n",
    "\n",
    "Let's install the necessary packages:"
   ]
  },
  {
   "cell_type": "code",
   "execution_count": null,
   "id": "9e0c6790-0c6e-4c45-887a-8d7953b1e584",
   "metadata": {
    "scrolled": true
   },
   "outputs": [],
   "source": [
    "import sys\n",
    "!{sys.executable} -m pip install -U pip\n",
    "!{sys.executable} -m pip install -U scikit-learn numpy matplotlib ipywidgets ipympl"
   ]
  },
  {
   "cell_type": "markdown",
   "id": "bc6dfc91-b1f5-4d87-a4f2-f8663277933f",
   "metadata": {},
   "source": [
    "and import some modules:"
   ]
  },
  {
   "cell_type": "code",
   "execution_count": null,
   "id": "cc79f368-2cc3-4ed4-ae0a-23be0d120ff4",
   "metadata": {},
   "outputs": [],
   "source": [
    "%matplotlib widget\n",
    "\n",
    "import ipywidgets as widgets\n",
    "import numpy as np\n",
    "import scipy as sp\n",
    "import sklearn\n",
    "import matplotlib.pyplot as plt"
   ]
  },
  {
   "cell_type": "markdown",
   "id": "2a1d49f6-4ad4-4267-b981-0ac7e6b6e3dd",
   "metadata": {},
   "source": [
    "As usual, you might want to run this command occassionally to clear up the memory from the widgets:"
   ]
  },
  {
   "cell_type": "code",
   "execution_count": null,
   "id": "77ebe330-a497-4f82-bc3f-a458ae766bef",
   "metadata": {},
   "outputs": [],
   "source": [
    "plt.close('all')"
   ]
  },
  {
   "cell_type": "markdown",
   "id": "b9be8c36-b971-47ba-bbc7-193f5c78a2d6",
   "metadata": {},
   "source": [
    "The code below creates some plot widgets:"
   ]
  },
  {
   "cell_type": "code",
   "execution_count": null,
   "id": "7e2f9e2b-f39f-4834-8053-af3982f760cf",
   "metadata": {},
   "outputs": [],
   "source": [
    "def create_impulse_train_plot():\n",
    "    \n",
    "    def generate_data (spacing__samp):\n",
    "        res = sklearn.utils.Bunch()\n",
    "        \n",
    "        res.spacing__samp = spacing__samp\n",
    "        res.N_samps       = 60\n",
    "\n",
    "        res.impulses_t = np.zeros( (1, res.N_samps) )\n",
    "        res.impulses_t[0, ::res.spacing__samp] = 1\n",
    "\n",
    "        res.sample_numbers = np.linspace(0, res.N_samps-1, res.N_samps).reshape(1, res.N_samps);\n",
    "        \n",
    "        res.N_fft = res.N_samps\n",
    "            \n",
    "        res.impulses_f = res.spacing__samp*np.abs(np.fft.fft(res.impulses_t, res.N_fft))/res.N_fft\n",
    "\n",
    "        res.freq_numbers = np.linspace(0, res.N_samps-1, res.N_samps).reshape(1, res.N_samps)/res.N_samps;\n",
    "        \n",
    "        return res\n",
    "\n",
    "    slider_spacing__samp = widgets.IntSlider(min=1, max=6, step=1, value= 1, description=\"k\", continuous_update=True)\n",
    "\n",
    "    fig = plt.figure(figsize=(12,5))\n",
    "    fig.canvas.toolbar_visible = False\n",
    "    fig.canvas.resizable       = False\n",
    "    \n",
    "    ax_t = fig.add_subplot(1, 2, 1)\n",
    "    ax_f = fig.add_subplot(1, 2, 2)\n",
    "\n",
    "    def update_lines(dummy):\n",
    "        res = generate_data(slider_spacing__samp.value)\n",
    "        \n",
    "        ax_t.clear()\n",
    "        ax_f.clear()\n",
    "\n",
    "        ax_t.set_xlim(0, res.N_fft-1)\n",
    "        ax_t.set_ylim(0, +1.5)\n",
    "        plt.sca(ax_t)\n",
    "        plt.xlabel(r'sample number')\n",
    "        plt.grid(visible=True, which='major', axis='y')\n",
    "\n",
    "        line_impulse_t, = ax_t.plot(np.transpose(res.sample_numbers), np.transpose(res.impulses_t), color='b', marker='.', linewidth=0.0)\n",
    "        ax_t.legend([line_impulse_t], ['impulse train'])\n",
    "    \n",
    "        line_impulse_f, = ax_f.plot(np.transpose(res.freq_numbers), np.transpose(res.impulses_f), color='b', marker='.', linewidth=0.0)\n",
    "        ax_f.set_xlim(0, 1.0)\n",
    "        ax_f.set_ylim(0, +1.5)\n",
    "        plt.sca(ax_f)\n",
    "        plt.xlabel(r'freq [cycles/sample]')\n",
    "        plt.grid(visible=True, which='major', axis='y')\n",
    "        ax_f.legend([line_impulse_f], ['impulse train'])\n",
    "\n",
    "        fig.canvas.draw_idle()\n",
    "\n",
    "    update_lines('dummy')\n",
    "        \n",
    "    slider_spacing__samp.observe(update_lines, names='value')\n",
    "    \n",
    "    display(slider_spacing__samp)\n",
    "    \n",
    "create_impulse_train_plot()"
   ]
  },
  {
   "cell_type": "markdown",
   "id": "e73f9bc1-786d-4db9-adf7-b0d4e6b245b1",
   "metadata": {},
   "source": [
    "The left plot (the \"time\" or \"sample\" domain)\n",
    "shows an impulse train\n",
    "with every $k^{th}$ sample set to 1.\n",
    "\n",
    "The right plot (the \"frequency\" domain)\n",
    "shows the Fourier transform\n",
    "of the samples on the left.\n",
    "The x-axis is in the \"normalized\"\n",
    "units of cycles/sample."
   ]
  },
  {
   "cell_type": "markdown",
   "id": "f1e0d3b3-7359-4da0-b51e-be1eb5671a97",
   "metadata": {},
   "source": [
    "**Does increasing $k$ increase or decrease the frequency of pulses in the train on the left plot?**"
   ]
  },
  {
   "cell_type": "markdown",
   "id": "a94e421b-bea3-47df-a114-edb5d3b8dd8e",
   "metadata": {},
   "source": [
    "YOUR ANSWER HERE"
   ]
  },
  {
   "cell_type": "markdown",
   "id": "6086976c-2f89-429b-aa9f-1d79cf4984c3",
   "metadata": {},
   "source": [
    "Set $k = 5$.\n",
    "\n",
    "**How far apart are the pulses in the train on the right plot?**"
   ]
  },
  {
   "cell_type": "markdown",
   "id": "4a5d5c0d-7dcf-449b-8789-411346c38dbf",
   "metadata": {},
   "source": [
    "YOUR ANSWER HERE"
   ]
  },
  {
   "cell_type": "markdown",
   "id": "674daf66-63c0-420c-86c5-61acb1eb94ee",
   "metadata": {},
   "source": [
    "Adjust $k$ and inspect the spacing of the pulses in the frequency domain.\n",
    "\n",
    "**Come up with a formula for the frequency domain spacing in terms of the time domain spacing.**"
   ]
  },
  {
   "cell_type": "markdown",
   "id": "bbcdabaa-4613-4bc3-b126-58e87b83420c",
   "metadata": {},
   "source": [
    "YOUR ANSWER HERE"
   ]
  },
  {
   "cell_type": "markdown",
   "id": "e43b6abb-1ec2-4f60-8848-d8da22c04a35",
   "metadata": {},
   "source": [
    "The following code creates another plot widget:"
   ]
  },
  {
   "cell_type": "code",
   "execution_count": null,
   "id": "9218fce3-e345-4a91-a3f1-731f55c3928f",
   "metadata": {},
   "outputs": [],
   "source": [
    "def create_rect_plot():\n",
    "    \n",
    "    def generate_data (width__samp):\n",
    "        res = sklearn.utils.Bunch()\n",
    "        \n",
    "        res.width__samp = width__samp\n",
    "        res.N_samps     = 60\n",
    "\n",
    "        res.impulses_t = np.zeros( (1, res.N_samps) )\n",
    "        res.impulses_t[0, 0:res.width__samp] = 1.0\n",
    "\n",
    "        res.sample_numbers = np.linspace(0, res.N_samps-1, res.N_samps).reshape(1, res.N_samps);\n",
    "        \n",
    "        res.N_fft = 10*res.N_samps\n",
    "\n",
    "        res.impulses_t_buf = np.zeros((1,res.N_fft));\n",
    "        res.impulses_t_buf[0,0:res.impulses_t.size] = res.impulses_t\n",
    "        \n",
    "        res.impulses_f = np.abs(sp.fft.fft(res.impulses_t_buf, res.N_fft)).reshape(1, res.N_fft)\n",
    "\n",
    "        res.freq_numbers = np.linspace(0, res.N_fft-1, res.N_fft).reshape(1, res.N_fft)/res.N_fft;\n",
    "        \n",
    "        return res\n",
    "\n",
    "    slider_width__samp = widgets.IntSlider(min=1, max=30, step=1, value=5, description=\"w\", continuous_update=True)\n",
    "\n",
    "    fig = plt.figure(figsize=(12,5))\n",
    "    fig.canvas.toolbar_visible = False\n",
    "    fig.canvas.resizable       = False\n",
    "    \n",
    "    ax_t = fig.add_subplot(1, 2, 1)\n",
    "    ax_f = fig.add_subplot(1, 2, 2)\n",
    "\n",
    "    def update_lines(dummy):\n",
    "        res = generate_data(slider_width__samp.value)\n",
    "        \n",
    "        ax_t.clear()\n",
    "        ax_f.clear()\n",
    "\n",
    "        ax_t.set_xlim(0, res.N_samps-1)\n",
    "        ax_t.set_ylim(0, +1.5) #/res.width__samp)\n",
    "        plt.sca(ax_t)\n",
    "        plt.xlabel(r'sample number')\n",
    "        plt.grid(visible=True, which='major', axis='y')\n",
    "\n",
    "        line_rect_t, = ax_t.plot(np.transpose(res.sample_numbers), np.transpose(res.impulses_t), color='b', marker='.', linewidth=0.0)\n",
    "        ax_t.legend([line_rect_t], ['rectangle'])\n",
    "    \n",
    "        line_rect_f, = ax_f.plot(np.transpose(res.freq_numbers), np.transpose(res.impulses_f), '-b')\n",
    "        ax_f.set_xlim(0, 1.0)\n",
    "        ax_f.set_ylim(0, 1.1*res.width__samp)\n",
    "        plt.sca(ax_f)\n",
    "        plt.xlabel(r'freq [cycles/sample]')\n",
    "        plt.grid(visible=True, which='major', axis='y')\n",
    "        ax_f.legend([line_rect_f], ['rectangle'])\n",
    "\n",
    "        fig.canvas.draw_idle()\n",
    "\n",
    "    update_lines('dummy')\n",
    "        \n",
    "    slider_width__samp.observe(update_lines, names='value')\n",
    "    \n",
    "    display(slider_width__samp)\n",
    "    \n",
    "create_rect_plot()"
   ]
  },
  {
   "cell_type": "markdown",
   "id": "a0deee53-d26d-4f0d-af9f-94c26f37b427",
   "metadata": {},
   "source": [
    "The left plot shows a rectangle with width $w$.\n",
    "\n",
    "The right plot shows the Fourier transform of the waveform on the left."
   ]
  },
  {
   "cell_type": "markdown",
   "id": "0ed48997-1165-4fed-bf72-b639d887d01e",
   "metadata": {},
   "source": [
    "While adjusting $w$,\n",
    "note the position of the first null\n",
    "(where the graph touches $y=0$)\n",
    "on the right.\n",
    "\n",
    "**Write a formula for the frequency of the first null in terms of $w$.**"
   ]
  },
  {
   "cell_type": "markdown",
   "id": "1aa84777-d0b0-4fef-9566-c5ce8aa91324",
   "metadata": {},
   "source": [
    "YOUR ANSWER HERE"
   ]
  },
  {
   "cell_type": "markdown",
   "id": "669555fd-986c-4ecc-bed6-54ae57cc5caa",
   "metadata": {},
   "source": [
    "Set $w=5$.\n",
    "\n",
    "Recall that the Fourier transform coefficient describes the correlation of a complex exponential with the input waveform.\n",
    "\n",
    "**In terms of the complex unit circle, explain why the frequencies 0.2, 0.4, 0.6, and 0.8 cycles/sample are nulls, while every other frequency is not.**"
   ]
  },
  {
   "cell_type": "markdown",
   "id": "601ea7a0-68d7-46a8-b7b3-ff665788cdaf",
   "metadata": {},
   "source": [
    "YOUR ANSWER HERE"
   ]
  },
  {
   "cell_type": "code",
   "execution_count": null,
   "id": "27987f39-1480-4a19-b57a-6e835877566c",
   "metadata": {},
   "outputs": [],
   "source": []
  }
 ],
 "metadata": {
  "kernelspec": {
   "display_name": "Python 3 (ipykernel)",
   "language": "python",
   "name": "python3"
  },
  "language_info": {
   "codemirror_mode": {
    "name": "ipython",
    "version": 3
   },
   "file_extension": ".py",
   "mimetype": "text/x-python",
   "name": "python",
   "nbconvert_exporter": "python",
   "pygments_lexer": "ipython3",
   "version": "3.10.13"
  }
 },
 "nbformat": 4,
 "nbformat_minor": 5
}
