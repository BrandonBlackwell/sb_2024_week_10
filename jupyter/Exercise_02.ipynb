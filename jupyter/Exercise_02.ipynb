{
 "cells": [
  {
   "cell_type": "markdown",
   "id": "2ac28917-e75a-4186-8d3f-53be0250cf3a",
   "metadata": {},
   "source": [
    "# Exercise 02: Another Transform Pair\n",
    "\n",
    "In this exercise,\n",
    "you'll explore the following Fourier transform pair:\n",
    "\\begin{align*}\n",
    "\\text{multiplication} &\\Longleftrightarrow \\text{convolution}\n",
    "\\end{align*}\n",
    "\n",
    "Let's install the necessary packages:"
   ]
  },
  {
   "cell_type": "code",
   "execution_count": null,
   "id": "1f54b1be-6eff-476a-ad3f-18b32eace270",
   "metadata": {
    "scrolled": true
   },
   "outputs": [],
   "source": [
    "import sys\n",
    "!{sys.executable} -m pip install -U pip\n",
    "!{sys.executable} -m pip install -U scikit-learn numpy matplotlib ipywidgets ipympl"
   ]
  },
  {
   "cell_type": "markdown",
   "id": "ebe9f827-967c-4005-9c93-c190a9deb1bb",
   "metadata": {},
   "source": [
    "and import some modules:"
   ]
  },
  {
   "cell_type": "code",
   "execution_count": null,
   "id": "92f72339-eb5f-41bc-bd3f-a8e40dd49676",
   "metadata": {},
   "outputs": [],
   "source": [
    "%matplotlib widget\n",
    "\n",
    "import ipywidgets as widgets\n",
    "import numpy as np\n",
    "import scipy as sp\n",
    "import sklearn\n",
    "import matplotlib.pyplot as plt"
   ]
  },
  {
   "cell_type": "markdown",
   "id": "e152680d-876f-4c15-83b0-4ade489046c7",
   "metadata": {},
   "source": [
    "As usual, you might want to run this from time to time:"
   ]
  },
  {
   "cell_type": "code",
   "execution_count": null,
   "id": "34705a69-45ac-453c-b957-2eb9fd489525",
   "metadata": {},
   "outputs": [],
   "source": [
    "plt.close('all')"
   ]
  },
  {
   "cell_type": "markdown",
   "id": "0193a0b5-fc47-4bf2-97c5-3ffdee302301",
   "metadata": {},
   "source": [
    "The follow code create a plot widget below:"
   ]
  },
  {
   "cell_type": "code",
   "execution_count": null,
   "id": "f165ac29-3639-4213-b08c-3333dbdaba63",
   "metadata": {},
   "outputs": [],
   "source": [
    "def create_sampling_plot():\n",
    "    \n",
    "    def generate_data (spacing__samp):\n",
    "        res = sklearn.utils.Bunch()\n",
    "\n",
    "        res.width__samp   = 24\n",
    "        res.spacing__samp = spacing__samp\n",
    "        res.N_samps       = 120\n",
    "\n",
    "        res.impulses_t = np.zeros( (1, res.N_samps) )\n",
    "        res.impulses_t[0, ::res.spacing__samp] = 1.0\n",
    "\n",
    "        res.rect_t = np.zeros( (1, res.N_samps) )\n",
    "        res.rect_t[0, 0:res.width__samp] = 1.0\n",
    "\n",
    "        res.sampled_t = res.rect_t * res.impulses_t\n",
    "        \n",
    "        res.sample_numbers = np.linspace(0, res.N_samps-1, res.N_samps).reshape(1, res.N_samps);\n",
    "        \n",
    "        res.N_fft = 10*res.N_samps\n",
    "            \n",
    "        res.impulses_f = res.spacing__samp*np.abs(np.fft.fft(res.impulses_t, res.N_fft))/res.N_samps\n",
    "        res.rect_f     = np.abs(np.fft.fft(res.rect_t, res.N_fft))/res.width__samp\n",
    "        res.sampled_f  = res.spacing__samp*np.abs(np.fft.fft(res.sampled_t, res.N_fft))/res.width__samp\n",
    "        \n",
    "        res.freq_numbers = np.linspace(0, res.N_fft-1, res.N_fft).reshape(1, res.N_fft)/res.N_fft;\n",
    "        \n",
    "        return res\n",
    "\n",
    "    slider_spacing__samp = widgets.IntSlider(min=1, max=4, step=1, value=1, description=\"k\", continuous_update=True)\n",
    "\n",
    "    fig = plt.figure(figsize=(12,5))\n",
    "    fig.canvas.toolbar_visible = False\n",
    "    fig.canvas.resizable       = False\n",
    "    \n",
    "    ax_t = fig.add_subplot(1, 2, 1)\n",
    "    ax_f = fig.add_subplot(1, 2, 2)\n",
    "\n",
    "    def update_lines(dummy):\n",
    "        res = generate_data(slider_spacing__samp.value)\n",
    "        \n",
    "        ax_t.clear()\n",
    "        ax_f.clear()\n",
    "\n",
    "        ax_t.set_xlim(0, res.N_samps-1)\n",
    "        ax_t.set_ylim(0, +1.5)\n",
    "        plt.sca(ax_t)\n",
    "        plt.xlabel(r'sample number')\n",
    "        plt.grid(visible=True, which='major', axis='y')\n",
    "\n",
    "        line_sampled_t, = ax_t.plot(np.transpose(res.sample_numbers), np.transpose(res.sampled_t),  color='g', marker='s', linewidth=0.0)\n",
    "        line_impulse_t, = ax_t.plot(np.transpose(res.sample_numbers), np.transpose(res.impulses_t), color='r', marker='.', linewidth=0.0)\n",
    "        line_rect_t,    = ax_t.plot(np.transpose(res.sample_numbers), np.transpose(res.rect_t),     color='b', marker='', linewidth=1.0)\n",
    "        ax_t.legend([line_rect_t, line_impulse_t, line_sampled_t], ['rectangle', 'impulse train', 'sampled data'])\n",
    "    \n",
    "        line_sampled_f, = ax_f.plot(np.transpose(res.freq_numbers), np.transpose(res.sampled_f),  color='g', marker='.', linewidth=1.0)\n",
    "        line_impulse_f, = ax_f.plot(np.transpose(res.freq_numbers), np.transpose(res.impulses_f), color='r', marker='', linewidth=1.0)\n",
    "        line_rect_f,    = ax_f.plot(np.transpose(res.freq_numbers), np.transpose(res.rect_f),     color='b', marker='', linewidth=1.0)\n",
    "        ax_f.set_xlim(0, 1.0)\n",
    "        ax_f.set_ylim(0, +1.5)\n",
    "        plt.sca(ax_f)\n",
    "        plt.xlabel(r'freq [cycles/sample]')\n",
    "        plt.grid(visible=True, which='major', axis='y')\n",
    "        ax_f.legend([line_rect_f, line_impulse_f, line_sampled_f], ['rectangle', 'impulse train', 'sampled data'])\n",
    "\n",
    "        fig.canvas.draw_idle()\n",
    "\n",
    "    update_lines('dummy')\n",
    "        \n",
    "    slider_spacing__samp.observe(update_lines, names='value')\n",
    "    \n",
    "    display(slider_spacing__samp)\n",
    "    \n",
    "create_sampling_plot()"
   ]
  },
  {
   "cell_type": "markdown",
   "id": "e9de6a67-b8bd-42b3-b7d2-bd8bbb2dd41b",
   "metadata": {},
   "source": [
    "You should already be familiar with impulse trains and rectangle functions from Exercise 01.  If not, make sure you do that before proceeding!"
   ]
  },
  {
   "cell_type": "markdown",
   "id": "697c0942-a548-4eb3-99aa-781e35b5b2e3",
   "metadata": {},
   "source": [
    "The left plot shows a rectangle function (blue).  We are going to (re)sample it by multiplying it with the impulse train (red) to get a sampled waveform (green).\n",
    "\n",
    "The green signal is the sample-by-sample product of two signals in the time domain.\n",
    "\n",
    "**What effect will this have in the frequency domain?**"
   ]
  },
  {
   "cell_type": "markdown",
   "id": "7770a78d-b90d-4fe5-b630-446276fb1ba4",
   "metadata": {},
   "source": [
    "YOUR ANSWER HERE"
   ]
  },
  {
   "cell_type": "markdown",
   "id": "ccea7ad0-1d3d-4405-a040-1dd3b04c4b76",
   "metadata": {},
   "source": [
    "Let's see if your instincts are correct.\n",
    "\n",
    "Start increasing $k$ (the space between impulses) and note what happens in the frequency domain.\n",
    "\n",
    "**What happens to the original rectangle's spectrum?**"
   ]
  },
  {
   "cell_type": "markdown",
   "id": "bdd87b43-a72c-4bde-bdd4-8033373e5737",
   "metadata": {},
   "source": [
    "YOUR ANSWER HERE"
   ]
  },
  {
   "cell_type": "markdown",
   "id": "5965ac33-02bc-4237-a10d-25d5c4426cad",
   "metadata": {},
   "source": [
    "**What happens to the impulse train spectrum?**"
   ]
  },
  {
   "cell_type": "markdown",
   "id": "df1faba6-0e61-4ec1-ac92-208e27ba1e00",
   "metadata": {},
   "source": [
    "YOUR ANSWER HERE"
   ]
  },
  {
   "cell_type": "markdown",
   "id": "33845bb3-7424-45e2-8298-70f3ef92a651",
   "metadata": {},
   "source": [
    "**What happens to the sampled data spectrum?**"
   ]
  },
  {
   "cell_type": "markdown",
   "id": "d494adf0-f0fb-43f1-af2c-580c42c3fc39",
   "metadata": {},
   "source": [
    "YOUR ANSWER HERE"
   ]
  },
  {
   "cell_type": "markdown",
   "id": "52b704ee-568c-471b-825b-246022cf5008",
   "metadata": {},
   "source": [
    "**Give a one-sentence explanation of what just happened.**"
   ]
  },
  {
   "cell_type": "markdown",
   "id": "3b1ca879-fcd3-4bb1-8bfc-778c73750dc0",
   "metadata": {},
   "source": [
    "YOUR ANSWER HERE"
   ]
  },
  {
   "cell_type": "markdown",
   "id": "bde03240-982d-4da5-8507-e096514564e0",
   "metadata": {},
   "source": [
    "**What would happen in the frequency domain if we periodically replicated the rectangle in the time domain?**"
   ]
  },
  {
   "cell_type": "markdown",
   "id": "11f89dc2-44c0-436c-ba85-51813eb9da59",
   "metadata": {},
   "source": [
    "YOUR ANSWER HERE"
   ]
  },
  {
   "cell_type": "markdown",
   "id": "fffdb4b5-9424-4676-b7b9-ac5e75431ca1",
   "metadata": {},
   "source": [
    "**What did you think of the last two weeks' exercises?**"
   ]
  },
  {
   "cell_type": "markdown",
   "id": "92ef380f-8fd6-46a7-ae9b-76461d0c6c3b",
   "metadata": {},
   "source": [
    "YOUR ANSWER HERE"
   ]
  },
  {
   "cell_type": "code",
   "execution_count": null,
   "id": "0cc262dd-b878-4bd4-9844-f5658f18b22c",
   "metadata": {},
   "outputs": [],
   "source": []
  }
 ],
 "metadata": {
  "kernelspec": {
   "display_name": "Python 3 (ipykernel)",
   "language": "python",
   "name": "python3"
  },
  "language_info": {
   "codemirror_mode": {
    "name": "ipython",
    "version": 3
   },
   "file_extension": ".py",
   "mimetype": "text/x-python",
   "name": "python",
   "nbconvert_exporter": "python",
   "pygments_lexer": "ipython3",
   "version": "3.10.13"
  }
 },
 "nbformat": 4,
 "nbformat_minor": 5
}
